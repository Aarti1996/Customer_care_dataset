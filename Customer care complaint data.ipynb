{
 "cells": [
  {
   "cell_type": "code",
   "execution_count": 1,
   "metadata": {},
   "outputs": [],
   "source": [
    "import pandas as pd\n",
    "import numpy as np"
   ]
  },
  {
   "cell_type": "code",
   "execution_count": 2,
   "metadata": {},
   "outputs": [],
   "source": [
    "df = pd.read_csv('/Users/Aarti Thakur/Downloads/Contact Center Data.csv')"
   ]
  },
  {
   "cell_type": "code",
   "execution_count": 3,
   "metadata": {},
   "outputs": [
    {
     "name": "stdout",
     "output_type": "stream",
     "text": [
      "<class 'pandas.core.frame.DataFrame'>\n",
      "RangeIndex: 86410 entries, 0 to 86409\n",
      "Data columns (total 9 columns):\n",
      "Customer_Id         86410 non-null int64\n",
      "Source              86410 non-null object\n",
      "Customer_Profile    86410 non-null object\n",
      "Age_Group           86410 non-null object\n",
      "Gender              86410 non-null object\n",
      "Purpose             86410 non-null object\n",
      "Product_Type        86410 non-null object\n",
      "Comments            86410 non-null object\n",
      "Outcome             86410 non-null object\n",
      "dtypes: int64(1), object(8)\n",
      "memory usage: 5.9+ MB\n"
     ]
    },
    {
     "data": {
      "text/html": [
       "<div>\n",
       "<style scoped>\n",
       "    .dataframe tbody tr th:only-of-type {\n",
       "        vertical-align: middle;\n",
       "    }\n",
       "\n",
       "    .dataframe tbody tr th {\n",
       "        vertical-align: top;\n",
       "    }\n",
       "\n",
       "    .dataframe thead th {\n",
       "        text-align: right;\n",
       "    }\n",
       "</style>\n",
       "<table border=\"1\" class=\"dataframe\">\n",
       "  <thead>\n",
       "    <tr style=\"text-align: right;\">\n",
       "      <th></th>\n",
       "      <th>Customer_Id</th>\n",
       "      <th>Source</th>\n",
       "      <th>Customer_Profile</th>\n",
       "      <th>Age_Group</th>\n",
       "      <th>Gender</th>\n",
       "      <th>Purpose</th>\n",
       "      <th>Product_Type</th>\n",
       "      <th>Comments</th>\n",
       "      <th>Outcome</th>\n",
       "    </tr>\n",
       "  </thead>\n",
       "  <tbody>\n",
       "    <tr>\n",
       "      <td>0</td>\n",
       "      <td>1</td>\n",
       "      <td>SMS</td>\n",
       "      <td>Salaried</td>\n",
       "      <td>22 - 25</td>\n",
       "      <td>Male</td>\n",
       "      <td>Movies</td>\n",
       "      <td>Tablet</td>\n",
       "      <td>Call drop.</td>\n",
       "      <td>Call Disconnected</td>\n",
       "    </tr>\n",
       "    <tr>\n",
       "      <td>1</td>\n",
       "      <td>2</td>\n",
       "      <td>Websites</td>\n",
       "      <td>Salaried</td>\n",
       "      <td>22 - 25</td>\n",
       "      <td>Male</td>\n",
       "      <td>Speed Response</td>\n",
       "      <td>Notebook</td>\n",
       "      <td>Call drop</td>\n",
       "      <td>Call Disconnected</td>\n",
       "    </tr>\n",
       "    <tr>\n",
       "      <td>2</td>\n",
       "      <td>3</td>\n",
       "      <td>Websites</td>\n",
       "      <td>Salaried</td>\n",
       "      <td>26 - 30</td>\n",
       "      <td>Male</td>\n",
       "      <td>Speed Response</td>\n",
       "      <td>Notebook</td>\n",
       "      <td>While assisting with the info, Customer discon...</td>\n",
       "      <td>Call Disconnected</td>\n",
       "    </tr>\n",
       "    <tr>\n",
       "      <td>3</td>\n",
       "      <td>4</td>\n",
       "      <td>Websites</td>\n",
       "      <td>Salaried</td>\n",
       "      <td>26 - 30</td>\n",
       "      <td>Male</td>\n",
       "      <td>Speed Response</td>\n",
       "      <td>Notebook</td>\n",
       "      <td>Customer had already ordered for G500 and enqu...</td>\n",
       "      <td>Product Specs Enquiry</td>\n",
       "    </tr>\n",
       "    <tr>\n",
       "      <td>4</td>\n",
       "      <td>5</td>\n",
       "      <td>Websites</td>\n",
       "      <td>Salaried</td>\n",
       "      <td>22 - 25</td>\n",
       "      <td>Male</td>\n",
       "      <td>Stylish</td>\n",
       "      <td>Tablet</td>\n",
       "      <td>Call disconnected</td>\n",
       "      <td>Call Disconnected</td>\n",
       "    </tr>\n",
       "    <tr>\n",
       "      <td>...</td>\n",
       "      <td>...</td>\n",
       "      <td>...</td>\n",
       "      <td>...</td>\n",
       "      <td>...</td>\n",
       "      <td>...</td>\n",
       "      <td>...</td>\n",
       "      <td>...</td>\n",
       "      <td>...</td>\n",
       "      <td>...</td>\n",
       "    </tr>\n",
       "    <tr>\n",
       "      <td>86405</td>\n",
       "      <td>49845</td>\n",
       "      <td>Websites</td>\n",
       "      <td>Salaried</td>\n",
       "      <td>26 - 30</td>\n",
       "      <td>Male</td>\n",
       "      <td>Net Surfing</td>\n",
       "      <td>Tablet</td>\n",
       "      <td>Customer is looking to buy A3000 tablet in a s...</td>\n",
       "      <td>Hot</td>\n",
       "    </tr>\n",
       "    <tr>\n",
       "      <td>86406</td>\n",
       "      <td>49526</td>\n",
       "      <td>Websites</td>\n",
       "      <td>--Select--</td>\n",
       "      <td>18 - 21</td>\n",
       "      <td>Male</td>\n",
       "      <td>Official</td>\n",
       "      <td>Notebook</td>\n",
       "      <td>Customer wanted to extend the warranty assiste...</td>\n",
       "      <td>BP Enquiry</td>\n",
       "    </tr>\n",
       "    <tr>\n",
       "      <td>86407</td>\n",
       "      <td>52600</td>\n",
       "      <td>Print Ads</td>\n",
       "      <td>Self Employed</td>\n",
       "      <td>26 - 30</td>\n",
       "      <td>Male</td>\n",
       "      <td>Net Surfing</td>\n",
       "      <td>Tablet</td>\n",
       "      <td>Customer is willing to buy A3000 tablet in a s...</td>\n",
       "      <td>Super Hot</td>\n",
       "    </tr>\n",
       "    <tr>\n",
       "      <td>86408</td>\n",
       "      <td>52601</td>\n",
       "      <td>Websites</td>\n",
       "      <td>Salaried</td>\n",
       "      <td>22 - 25</td>\n",
       "      <td>Male</td>\n",
       "      <td>Net Surfing</td>\n",
       "      <td>Notebook</td>\n",
       "      <td>Customer enquired about Y510p and info was given.</td>\n",
       "      <td>Product Specs Enquiry</td>\n",
       "    </tr>\n",
       "    <tr>\n",
       "      <td>86409</td>\n",
       "      <td>52602</td>\n",
       "      <td>Websites</td>\n",
       "      <td>Salaried</td>\n",
       "      <td>41 - 50</td>\n",
       "      <td>Male</td>\n",
       "      <td>Official</td>\n",
       "      <td>Desktop</td>\n",
       "      <td>Wants to purchase only CPU of H530s(57320553)....</td>\n",
       "      <td>Super Hot</td>\n",
       "    </tr>\n",
       "  </tbody>\n",
       "</table>\n",
       "<p>86410 rows × 9 columns</p>\n",
       "</div>"
      ],
      "text/plain": [
       "       Customer_Id     Source Customer_Profile Age_Group Gender  \\\n",
       "0                1        SMS         Salaried   22 - 25   Male   \n",
       "1                2   Websites         Salaried   22 - 25   Male   \n",
       "2                3   Websites         Salaried   26 - 30   Male   \n",
       "3                4   Websites         Salaried   26 - 30   Male   \n",
       "4                5   Websites         Salaried   22 - 25   Male   \n",
       "...            ...        ...              ...       ...    ...   \n",
       "86405        49845   Websites         Salaried   26 - 30   Male   \n",
       "86406        49526   Websites       --Select--   18 - 21   Male   \n",
       "86407        52600  Print Ads    Self Employed   26 - 30   Male   \n",
       "86408        52601   Websites         Salaried   22 - 25   Male   \n",
       "86409        52602   Websites         Salaried   41 - 50   Male   \n",
       "\n",
       "              Purpose Product_Type  \\\n",
       "0              Movies       Tablet   \n",
       "1      Speed Response     Notebook   \n",
       "2      Speed Response     Notebook   \n",
       "3      Speed Response     Notebook   \n",
       "4             Stylish       Tablet   \n",
       "...               ...          ...   \n",
       "86405     Net Surfing       Tablet   \n",
       "86406        Official     Notebook   \n",
       "86407     Net Surfing       Tablet   \n",
       "86408     Net Surfing     Notebook   \n",
       "86409        Official      Desktop   \n",
       "\n",
       "                                                Comments  \\\n",
       "0                                             Call drop.   \n",
       "1                                              Call drop   \n",
       "2      While assisting with the info, Customer discon...   \n",
       "3      Customer had already ordered for G500 and enqu...   \n",
       "4                                      Call disconnected   \n",
       "...                                                  ...   \n",
       "86405  Customer is looking to buy A3000 tablet in a s...   \n",
       "86406  Customer wanted to extend the warranty assiste...   \n",
       "86407  Customer is willing to buy A3000 tablet in a s...   \n",
       "86408  Customer enquired about Y510p and info was given.   \n",
       "86409  Wants to purchase only CPU of H530s(57320553)....   \n",
       "\n",
       "                     Outcome  \n",
       "0          Call Disconnected  \n",
       "1          Call Disconnected  \n",
       "2          Call Disconnected  \n",
       "3      Product Specs Enquiry  \n",
       "4          Call Disconnected  \n",
       "...                      ...  \n",
       "86405                    Hot  \n",
       "86406             BP Enquiry  \n",
       "86407              Super Hot  \n",
       "86408  Product Specs Enquiry  \n",
       "86409              Super Hot  \n",
       "\n",
       "[86410 rows x 9 columns]"
      ]
     },
     "execution_count": 3,
     "metadata": {},
     "output_type": "execute_result"
    }
   ],
   "source": [
    "df.info()\n",
    "df"
   ]
  },
  {
   "cell_type": "code",
   "execution_count": 4,
   "metadata": {},
   "outputs": [
    {
     "data": {
      "text/html": [
       "<div>\n",
       "<style scoped>\n",
       "    .dataframe tbody tr th:only-of-type {\n",
       "        vertical-align: middle;\n",
       "    }\n",
       "\n",
       "    .dataframe tbody tr th {\n",
       "        vertical-align: top;\n",
       "    }\n",
       "\n",
       "    .dataframe thead th {\n",
       "        text-align: right;\n",
       "    }\n",
       "</style>\n",
       "<table border=\"1\" class=\"dataframe\">\n",
       "  <thead>\n",
       "    <tr style=\"text-align: right;\">\n",
       "      <th></th>\n",
       "      <th>Customer_Id</th>\n",
       "      <th>Source</th>\n",
       "      <th>Customer_Profile</th>\n",
       "      <th>Age_Group</th>\n",
       "      <th>Gender</th>\n",
       "      <th>Purpose</th>\n",
       "      <th>Product_Type</th>\n",
       "      <th>Comments</th>\n",
       "      <th>Outcome</th>\n",
       "    </tr>\n",
       "  </thead>\n",
       "  <tbody>\n",
       "    <tr>\n",
       "      <td>0</td>\n",
       "      <td>1</td>\n",
       "      <td>SMS</td>\n",
       "      <td>Salaried</td>\n",
       "      <td>22 - 25</td>\n",
       "      <td>Male</td>\n",
       "      <td>Movies</td>\n",
       "      <td>Tablet</td>\n",
       "      <td>Call drop.</td>\n",
       "      <td>call disconnected</td>\n",
       "    </tr>\n",
       "    <tr>\n",
       "      <td>1</td>\n",
       "      <td>2</td>\n",
       "      <td>Websites</td>\n",
       "      <td>Salaried</td>\n",
       "      <td>22 - 25</td>\n",
       "      <td>Male</td>\n",
       "      <td>Speed Response</td>\n",
       "      <td>Notebook</td>\n",
       "      <td>Call drop</td>\n",
       "      <td>call disconnected</td>\n",
       "    </tr>\n",
       "    <tr>\n",
       "      <td>2</td>\n",
       "      <td>3</td>\n",
       "      <td>Websites</td>\n",
       "      <td>Salaried</td>\n",
       "      <td>26 - 30</td>\n",
       "      <td>Male</td>\n",
       "      <td>Speed Response</td>\n",
       "      <td>Notebook</td>\n",
       "      <td>While assisting with the info, Customer discon...</td>\n",
       "      <td>call disconnected</td>\n",
       "    </tr>\n",
       "    <tr>\n",
       "      <td>3</td>\n",
       "      <td>4</td>\n",
       "      <td>Websites</td>\n",
       "      <td>Salaried</td>\n",
       "      <td>26 - 30</td>\n",
       "      <td>Male</td>\n",
       "      <td>Speed Response</td>\n",
       "      <td>Notebook</td>\n",
       "      <td>Customer had already ordered for G500 and enqu...</td>\n",
       "      <td>product specs enquiry</td>\n",
       "    </tr>\n",
       "    <tr>\n",
       "      <td>4</td>\n",
       "      <td>5</td>\n",
       "      <td>Websites</td>\n",
       "      <td>Salaried</td>\n",
       "      <td>22 - 25</td>\n",
       "      <td>Male</td>\n",
       "      <td>Stylish</td>\n",
       "      <td>Tablet</td>\n",
       "      <td>Call disconnected</td>\n",
       "      <td>call disconnected</td>\n",
       "    </tr>\n",
       "  </tbody>\n",
       "</table>\n",
       "</div>"
      ],
      "text/plain": [
       "   Customer_Id    Source Customer_Profile Age_Group Gender         Purpose  \\\n",
       "0            1       SMS         Salaried   22 - 25   Male          Movies   \n",
       "1            2  Websites         Salaried   22 - 25   Male  Speed Response   \n",
       "2            3  Websites         Salaried   26 - 30   Male  Speed Response   \n",
       "3            4  Websites         Salaried   26 - 30   Male  Speed Response   \n",
       "4            5  Websites         Salaried   22 - 25   Male         Stylish   \n",
       "\n",
       "  Product_Type                                           Comments  \\\n",
       "0       Tablet                                         Call drop.   \n",
       "1     Notebook                                          Call drop   \n",
       "2     Notebook  While assisting with the info, Customer discon...   \n",
       "3     Notebook  Customer had already ordered for G500 and enqu...   \n",
       "4       Tablet                                  Call disconnected   \n",
       "\n",
       "                 Outcome  \n",
       "0      call disconnected  \n",
       "1      call disconnected  \n",
       "2      call disconnected  \n",
       "3  product specs enquiry  \n",
       "4      call disconnected  "
      ]
     },
     "execution_count": 4,
     "metadata": {},
     "output_type": "execute_result"
    }
   ],
   "source": [
    "df[\"Outcome\"]= df[\"Outcome\"].str.lower()\n",
    "df.head()"
   ]
  },
  {
   "cell_type": "code",
   "execution_count": 5,
   "metadata": {},
   "outputs": [
    {
     "name": "stdout",
     "output_type": "stream",
     "text": [
      "call disconnected\n"
     ]
    }
   ],
   "source": [
    "outcome = list(df['Outcome'])\n",
    "print(outcome[0])"
   ]
  },
  {
   "cell_type": "code",
   "execution_count": 6,
   "metadata": {},
   "outputs": [],
   "source": [
    "import seaborn as sns\n",
    "import matplotlib.pyplot as plt\n",
    "%matplotlib inline"
   ]
  },
  {
   "cell_type": "code",
   "execution_count": 7,
   "metadata": {},
   "outputs": [
    {
     "data": {
      "image/png": "[encoded data removed]",
      "text/plain": [
       "<Figure size 432x288 with 1 Axes>"
      ]
     },
     "metadata": {
      "needs_background": "light"
     },
     "output_type": "display_data"
    }
   ],
   "source": [
    "plt.hist(outcome, bins = 25)\n",
    "plt.xticks(rotation='vertical')\n",
    "plt.show() #number of calls as per different outcomes"
   ]
  },
  {
   "cell_type": "code",
   "execution_count": 8,
   "metadata": {},
   "outputs": [
    {
     "data": {
      "image/png": "[encoded data removed]",
      "text/plain": [
       "<Figure size 432x288 with 1 Axes>"
      ]
     },
     "metadata": {
      "needs_background": "light"
     },
     "output_type": "display_data"
    }
   ],
   "source": [
    "df.groupby('Outcome')['Product_Type'].count().plot(kind = 'bar') #number of calls as per different outcomes\n",
    "plt.savefig(\"C:/Users/Aarti Thakur/Documents/plots/graph1.png\")"
   ]
  },
  {
   "cell_type": "code",
   "execution_count": 9,
   "metadata": {},
   "outputs": [
    {
     "data": {
      "image/png": "[encoded data removed]",
      "text/plain": [
       "<Figure size 432x288 with 1 Axes>"
      ]
     },
     "metadata": {
      "needs_background": "light"
     },
     "output_type": "display_data"
    }
   ],
   "source": [
    "df.groupby('Outcome')['Product_Type'].nunique().plot(kind = 'bar', width = 1) #number of unique product type per outcome\n",
    "plt.savefig(\"C:/Users/Aarti Thakur/Documents/plots/graph2.png\")"
   ]
  },
  {
   "cell_type": "code",
   "execution_count": 10,
   "metadata": {},
   "outputs": [
    {
     "data": {
      "image/png": "[encoded data removed]",
      "text/plain": [
       "<Figure size 432x288 with 1 Axes>"
      ]
     },
     "metadata": {
      "needs_background": "light"
     },
     "output_type": "display_data"
    }
   ],
   "source": [
    "df.groupby('Product_Type')['Outcome'].count().plot(kind = 'bar')#To check which product has more number of call\n",
    "plt.savefig(\"C:/Users/Aarti Thakur/Documents/plots/graph3.png\")"
   ]
  },
  {
   "cell_type": "code",
   "execution_count": 11,
   "metadata": {},
   "outputs": [],
   "source": [
    "new_data = df.groupby('Product_Type')['Outcome'].value_counts()"
   ]
  },
  {
   "cell_type": "code",
   "execution_count": 23,
   "metadata": {},
   "outputs": [
    {
     "data": {
      "text/plain": [
       "<matplotlib.axes._subplots.AxesSubplot at 0x1d046f87a48>"
      ]
     },
     "execution_count": 23,
     "metadata": {},
     "output_type": "execute_result"
    },
    {
     "data": {
      "image/png": "[encoded data removed]",
      "text/plain": [
       "<Figure size 1440x720 with 1 Axes>"
      ]
     },
     "metadata": {
      "needs_background": "light"
     },
     "output_type": "display_data"
    }
   ],
   "source": [
    "Product_Type = pd.crosstab(df['Product_Type'], df['Outcome'])\n",
    "#Property_Area = pd.crosstab(train['Property_Area'], train['Outcome'])\n",
    "Product_Type.div(Product_Type.sum(1).astype(float), axis = 0).plot(kind = \"bar\", stacked = True, figsize = (20,10))\n",
    "#Property_Area.div(Property_Area.sum(1).astype(float), axis = 0).plot(kind = \"bar\", stacked = True, figsize = (4,4))"
   ]
  },
  {
   "cell_type": "code",
   "execution_count": 12,
   "metadata": {},
   "outputs": [],
   "source": [
    "new_data1 = pd.DataFrame(new_data)"
   ]
  },
  {
   "cell_type": "code",
   "execution_count": 13,
   "metadata": {},
   "outputs": [
    {
     "name": "stdout",
     "output_type": "stream",
     "text": [
      "<class 'pandas.core.frame.DataFrame'>\n",
      "RangeIndex: 121 entries, 0 to 120\n",
      "Data columns (total 3 columns):\n",
      "Product_Type      121 non-null object\n",
      "Outcome           121 non-null object\n",
      "Outcome_Counts    121 non-null int64\n",
      "dtypes: int64(1), object(2)\n",
      "memory usage: 3.0+ KB\n"
     ]
    },
    {
     "data": {
      "text/html": [
       "<div>\n",
       "<style scoped>\n",
       "    .dataframe tbody tr th:only-of-type {\n",
       "        vertical-align: middle;\n",
       "    }\n",
       "\n",
       "    .dataframe tbody tr th {\n",
       "        vertical-align: top;\n",
       "    }\n",
       "\n",
       "    .dataframe thead th {\n",
       "        text-align: right;\n",
       "    }\n",
       "</style>\n",
       "<table border=\"1\" class=\"dataframe\">\n",
       "  <thead>\n",
       "    <tr style=\"text-align: right;\">\n",
       "      <th></th>\n",
       "      <th>Product_Type</th>\n",
       "      <th>Outcome</th>\n",
       "      <th>Outcome_Counts</th>\n",
       "    </tr>\n",
       "  </thead>\n",
       "  <tbody>\n",
       "    <tr>\n",
       "      <td>0</td>\n",
       "      <td>AIO</td>\n",
       "      <td>product specs enquiry</td>\n",
       "      <td>278</td>\n",
       "    </tr>\n",
       "    <tr>\n",
       "      <td>1</td>\n",
       "      <td>AIO</td>\n",
       "      <td>technical issue</td>\n",
       "      <td>230</td>\n",
       "    </tr>\n",
       "    <tr>\n",
       "      <td>2</td>\n",
       "      <td>AIO</td>\n",
       "      <td>super hot</td>\n",
       "      <td>151</td>\n",
       "    </tr>\n",
       "    <tr>\n",
       "      <td>3</td>\n",
       "      <td>AIO</td>\n",
       "      <td>complaint</td>\n",
       "      <td>140</td>\n",
       "    </tr>\n",
       "    <tr>\n",
       "      <td>4</td>\n",
       "      <td>AIO</td>\n",
       "      <td>offer enquiry</td>\n",
       "      <td>105</td>\n",
       "    </tr>\n",
       "    <tr>\n",
       "      <td>...</td>\n",
       "      <td>...</td>\n",
       "      <td>...</td>\n",
       "      <td>...</td>\n",
       "    </tr>\n",
       "    <tr>\n",
       "      <td>116</td>\n",
       "      <td>Tablet</td>\n",
       "      <td>prices high</td>\n",
       "      <td>8</td>\n",
       "    </tr>\n",
       "    <tr>\n",
       "      <td>117</td>\n",
       "      <td>Tablet</td>\n",
       "      <td>dealership request</td>\n",
       "      <td>5</td>\n",
       "    </tr>\n",
       "    <tr>\n",
       "      <td>118</td>\n",
       "      <td>Tablet</td>\n",
       "      <td>unhappy with offer</td>\n",
       "      <td>2</td>\n",
       "    </tr>\n",
       "    <tr>\n",
       "      <td>119</td>\n",
       "      <td>Tablet</td>\n",
       "      <td>does not quality for offer</td>\n",
       "      <td>1</td>\n",
       "    </tr>\n",
       "    <tr>\n",
       "      <td>120</td>\n",
       "      <td>Tablet</td>\n",
       "      <td>need info an email</td>\n",
       "      <td>1</td>\n",
       "    </tr>\n",
       "  </tbody>\n",
       "</table>\n",
       "<p>121 rows × 3 columns</p>\n",
       "</div>"
      ],
      "text/plain": [
       "    Product_Type                     Outcome  Outcome_Counts\n",
       "0            AIO       product specs enquiry             278\n",
       "1            AIO             technical issue             230\n",
       "2            AIO                   super hot             151\n",
       "3            AIO                   complaint             140\n",
       "4            AIO               offer enquiry             105\n",
       "..           ...                         ...             ...\n",
       "116       Tablet                 prices high               8\n",
       "117       Tablet          dealership request               5\n",
       "118       Tablet          unhappy with offer               2\n",
       "119       Tablet  does not quality for offer               1\n",
       "120       Tablet          need info an email               1\n",
       "\n",
       "[121 rows x 3 columns]"
      ]
     },
     "execution_count": 13,
     "metadata": {},
     "output_type": "execute_result"
    }
   ],
   "source": [
    "new_data2= new_data1.rename(columns={'Outcome': 'Outcome_Counts'}) #Creation of new dataset as the Outcome counts\n",
    "new_data3 = new_data2.reset_index()\n",
    "new_data3.info()\n",
    "new_data3"
   ]
  },
  {
   "cell_type": "code",
   "execution_count": 14,
   "metadata": {},
   "outputs": [
    {
     "data": {
      "text/html": [
       "<div>\n",
       "<style scoped>\n",
       "    .dataframe tbody tr th:only-of-type {\n",
       "        vertical-align: middle;\n",
       "    }\n",
       "\n",
       "    .dataframe tbody tr th {\n",
       "        vertical-align: top;\n",
       "    }\n",
       "\n",
       "    .dataframe thead tr th {\n",
       "        text-align: left;\n",
       "    }\n",
       "\n",
       "    .dataframe thead tr:last-of-type th {\n",
       "        text-align: right;\n",
       "    }\n",
       "</style>\n",
       "<table border=\"1\" class=\"dataframe\">\n",
       "  <thead>\n",
       "    <tr>\n",
       "      <th></th>\n",
       "      <th>Outcome_Counts</th>\n",
       "      <th>Outcome</th>\n",
       "    </tr>\n",
       "    <tr>\n",
       "      <th></th>\n",
       "      <th>max</th>\n",
       "      <th>max</th>\n",
       "    </tr>\n",
       "    <tr>\n",
       "      <th>Product_Type</th>\n",
       "      <th></th>\n",
       "      <th></th>\n",
       "    </tr>\n",
       "  </thead>\n",
       "  <tbody>\n",
       "    <tr>\n",
       "      <td>AIO</td>\n",
       "      <td>278</td>\n",
       "      <td>will buy in future</td>\n",
       "    </tr>\n",
       "    <tr>\n",
       "      <td>Accessaries</td>\n",
       "      <td>1070</td>\n",
       "      <td>warm</td>\n",
       "    </tr>\n",
       "    <tr>\n",
       "      <td>Desktop</td>\n",
       "      <td>410</td>\n",
       "      <td>will buy in future</td>\n",
       "    </tr>\n",
       "    <tr>\n",
       "      <td>Mobile Phone</td>\n",
       "      <td>2312</td>\n",
       "      <td>will buy in future</td>\n",
       "    </tr>\n",
       "    <tr>\n",
       "      <td>Notebook</td>\n",
       "      <td>18174</td>\n",
       "      <td>will buy in future</td>\n",
       "    </tr>\n",
       "    <tr>\n",
       "      <td>Software And Peripherals</td>\n",
       "      <td>246</td>\n",
       "      <td>warm</td>\n",
       "    </tr>\n",
       "    <tr>\n",
       "      <td>Tablet</td>\n",
       "      <td>1842</td>\n",
       "      <td>will buy in future</td>\n",
       "    </tr>\n",
       "  </tbody>\n",
       "</table>\n",
       "</div>"
      ],
      "text/plain": [
       "                         Outcome_Counts             Outcome\n",
       "                                    max                 max\n",
       "Product_Type                                               \n",
       "AIO                                 278  will buy in future\n",
       "Accessaries                        1070                warm\n",
       "Desktop                             410  will buy in future\n",
       "Mobile Phone                       2312  will buy in future\n",
       "Notebook                          18174  will buy in future\n",
       "Software And Peripherals            246                warm\n",
       "Tablet                             1842  will buy in future"
      ]
     },
     "execution_count": 14,
     "metadata": {},
     "output_type": "execute_result"
    }
   ],
   "source": [
    "new_data3.groupby(['Product_Type'])['Outcome_Counts','Outcome'].agg(['max']) #To identify the maximum outcome againts each product"
   ]
  },
  {
   "cell_type": "code",
   "execution_count": 15,
   "metadata": {},
   "outputs": [
    {
     "data": {
      "text/plain": [
       "call disconnected              7\n",
       "super hot                      7\n",
       "technical issue                7\n",
       "price enquiry                  7\n",
       "prank call                     7\n",
       "hot                            7\n",
       "product specs enquiry          7\n",
       "not looking to buy now         7\n",
       "bp enquiry                     7\n",
       "warm                           7\n",
       "complaint                      7\n",
       "offer enquiry                  7\n",
       "cold                           7\n",
       "dealership request             6\n",
       "need info an email             5\n",
       "prices high                    5\n",
       "will buy in future             5\n",
       "unhappy with offer             3\n",
       "better competition products    3\n",
       "does not quality for offer     3\n",
       "Name: Outcome, dtype: int64"
      ]
     },
     "execution_count": 15,
     "metadata": {},
     "output_type": "execute_result"
    }
   ],
   "source": [
    "new_data3['Outcome'].value_counts()"
   ]
  },
  {
   "cell_type": "code",
   "execution_count": null,
   "metadata": {},
   "outputs": [],
   "source": []
  }
 ],
 "metadata": {
  "kernelspec": {
   "display_name": "Python 3",
   "language": "python",
   "name": "python3"
  },
  "language_info": {
   "codemirror_mode": {
    "name": "ipython",
    "version": 3
   },
   "file_extension": ".py",
   "mimetype": "text/x-python",
   "name": "python",
   "nbconvert_exporter": "python",
   "pygments_lexer": "ipython3",
   "version": "3.7.4"
  }
 },
 "nbformat": 4,
 "nbformat_minor": 2
}
